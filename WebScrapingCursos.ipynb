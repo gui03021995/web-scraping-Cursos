{
  "cells": [
    {
      "cell_type": "code",
      "execution_count": null,
      "id": "animated-fortune",
      "metadata": {
        "id": "animated-fortune"
      },
      "outputs": [],
      "source": [
        "import requests\n",
        "from bs4 import BeautifulSoup\n",
        "import pandas as pd\n",
        "from lxml import etree"
      ]
    },
    {
      "cell_type": "code",
      "execution_count": null,
      "id": "knowing-fantasy",
      "metadata": {
        "id": "knowing-fantasy"
      },
      "outputs": [],
      "source": [
        "def cursos (url, todoscursos):\n",
        "    curso = {}\n",
        "    site = requests.get(url)\n",
        "    soup = BeautifulSoup(site.content, 'html.parser')\n",
        "    curso['CURSO'] = soup.find('span', id= 'form:nomeProg').get_text().strip()\n",
        "    curso['CODIGO'] = soup.find('span', id='form:codProg').get_text().strip()\n",
        "    curso['areaBASICA'] = soup.find('span', id='form:codNomeAreaProg').get_text().strip()\n",
        "    curso['areaAVALIAÇÃO'] = soup.find('span', id='form:areaAvProg').get_text().strip()\n",
        "    curso['SITUAÇÃO'] = soup.find('span', id='form:situacaoPrograma').get_text().strip()\n",
        "    curso['CIDADE'] = soup.find('span', id='form:j_idt53:0:cidade').get_text().strip()\n",
        "    mestrado = soup.find('span', id='form:j_idt86:0:grauCurso')\n",
        "    if mestrado != None :\n",
        "        curso['MESTRADO'] = 'Mestrado'\n",
        "        curso['situacaoMESTRADO'] = soup.find('span', id='form:j_idt86:0:sitCurso').get_text().strip()\n",
        "        curso['codigoMESTRADO'] = soup.find('span', id='form:j_idt86:0:codCurso').get_text().strip()\n",
        "        n = etree.HTML(bytes(str(soup) , encoding='utf-8'))\n",
        "        curso['notaCURSO'] = n.xpath('//*[@id=\"form\"]/div[3]/div/div/div/fieldset/div[3]/div[2]')[0].text.strip()\n",
        "    doutorado = soup.find('span', id = 'form:j_idt86:1:grauCurso')\n",
        "    if doutorado != None :\n",
        "        curso['DOUTORADO'] = 'Doutorado'\n",
        "        curso['situacaoDOUTORADO'] = soup.find('span', id='form:j_idt86:1:sitCurso').get_text().strip()\n",
        "        curso['codDOUTORADO'] = soup.find('span', id='form:j_idt86:1:codCurso').get_text().strip()\n",
        "    curso['CEP'] = soup.find('span', id='form:j_idt53:0:cep').get_text().strip()\n",
        "    curso['INICIO'] = soup.find('span', id='form:j_idt53:0:dataInclusao').get_text().strip()\n",
        "    curso['UNIVERSIDADE'] = soup.find('span', id='form:j_idt53:0:iesNome').get_text().strip()\n",
        "              \n",
        "    todoscursos.append(curso)\n",
        "    return todoscursos      \n",
        "              "
      ]
    },
    {
      "cell_type": "code",
      "execution_count": null,
      "id": "excessive-queensland",
      "metadata": {
        "id": "excessive-queensland"
      },
      "outputs": [],
      "source": [
        "todoscursos = []\n",
        "for i in range(1,51):\n",
        "        url = 'https://sucupira.capes.gov.br/sucupira/public/consultas/coleta/programa/viewPrograma.jsf?popup=true&id_programa={}'.format(i)\n",
        "        todoscursos = cursos(url, todoscursos)        \n",
        "        i += 1\n",
        "\n",
        "dataset = pd.DataFrame(todoscursos) \n",
        "dataset = dataset.fillna('Null')\n",
        "dataset = dataset.replace('', 'Null')\n",
        "dataset"
      ]
    }
  ],
  "metadata": {
    "kernelspec": {
      "display_name": "Python 3",
      "language": "python",
      "name": "python3"
    },
    "language_info": {
      "codemirror_mode": {
        "name": "ipython",
        "version": 3
      },
      "file_extension": ".py",
      "mimetype": "text/x-python",
      "name": "python",
      "nbconvert_exporter": "python",
      "pygments_lexer": "ipython3",
      "version": "3.7.7"
    },
    "colab": {
      "provenance": []
    }
  },
  "nbformat": 4,
  "nbformat_minor": 5
}